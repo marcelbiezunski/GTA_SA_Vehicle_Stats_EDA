{
 "cells": [
  {
   "cell_type": "code",
   "execution_count": null,
   "id": "531cd2c2",
   "metadata": {},
   "outputs": [],
   "source": [
    "import pandas as pd\n",
    "import matplotlib.pyplot as plt\n",
    "import seaborn as sns"
   ]
  },
  {
   "cell_type": "code",
   "execution_count": null,
   "id": "27a7d34b",
   "metadata": {},
   "outputs": [],
   "source": [
    "df = pd.read_csv('gta_sa_vehicle_stats.csv')\n",
    "pd.set_option('display.max_columns', None)\n",
    "df"
   ]
  },
  {
   "cell_type": "code",
   "execution_count": null,
   "id": "5c1599ff",
   "metadata": {},
   "outputs": [],
   "source": [
    "df.columns = [c.lower().replace(' ', '_') for c in df.columns]"
   ]
  },
  {
   "cell_type": "code",
   "execution_count": null,
   "id": "bdf95902",
   "metadata": {},
   "outputs": [],
   "source": [
    "df"
   ]
  },
  {
   "cell_type": "code",
   "execution_count": null,
   "id": "26f0162d",
   "metadata": {},
   "outputs": [],
   "source": [
    "df = df.rename(columns={\n",
    "    \"center_of_mass\": \"center_of_mass_x\",\n",
    "    \"center_of_mass.1\": \"center_of_mass_y\",\n",
    "    \"center_of_mass.2\": \"center_of_mass_z\",\n",
    "    \"center_of_mass.3\": \"center_of_mass_%submerged\",\n",
    "    \"traction\": \"traction_multiplier\",\n",
    "    \"traction.1\": \"traction_loss\",\n",
    "    \"traction.2\": \"traction_bias(%)\",\n",
    "    \"transmission\": \"#_of_gears\",\n",
    "    \"transmission.1\": \"max_velocity(km/h)\",\n",
    "    \"transmission.2\": \"acceleration(ms^2)\",\n",
    "    \"transmission.3\": \"interia\",\n",
    "    \"transmission.4\": \"drive_type\",\n",
    "    \"transmission.5\": \"engine_type\",\n",
    "    \"brakes\": \"brakes_deceleration(ms^2)\",\n",
    "    \"brakes.1\": \"brakes_bias(%)\",\n",
    "    \"brakes.2\": \"abs\",\n",
    "    \"suspension\": \"suspension_force_level\",\n",
    "    \"suspension.1\": \"suspension_damping_level\",\n",
    "    \"suspension.2\": \"suspension_high_speed_com_damping\",\n",
    "    \"suspension_lines\": \"suspension_lines_upper_limit\",\n",
    "    \"suspension_lines.1\": \"suspension_lines_lower_limit\",\n",
    "    \"suspension_lines.2\": \"suspension_lines_bias_between_front_and_rear\",\n",
    "    \"lights\": \"lights_front\",\n",
    "    \"lights.1\": \"lights_rear\",\n",
    "    \"lights.2\": \"lights_anim_group\",\n",
    "\n",
    "})"
   ]
  },
  {
   "cell_type": "code",
   "execution_count": null,
   "id": "225809d2",
   "metadata": {},
   "outputs": [],
   "source": [
    "df = df.iloc[1:].reset_index(drop=True)\n",
    "df"
   ]
  },
  {
   "cell_type": "markdown",
   "id": "e9d81338",
   "metadata": {},
   "source": [
    "Save this cleared version"
   ]
  },
  {
   "cell_type": "code",
   "execution_count": null,
   "id": "ce244c52",
   "metadata": {},
   "outputs": [],
   "source": [
    "#df.to_csv('gta_sa_vehicle_stats_cleared.csv', index=False)"
   ]
  },
  {
   "cell_type": "code",
   "execution_count": null,
   "id": "9007e9bb",
   "metadata": {},
   "outputs": [],
   "source": [
    "df[df.isnull().any(axis=1)]"
   ]
  },
  {
   "cell_type": "code",
   "execution_count": null,
   "id": "5bec9709",
   "metadata": {},
   "outputs": [],
   "source": [
    "df['lights_anim_group'] = df['lights_anim_group'].fillna(0)"
   ]
  },
  {
   "cell_type": "code",
   "execution_count": null,
   "id": "04d36754",
   "metadata": {},
   "outputs": [],
   "source": [
    "df.isnull().sum().sum()"
   ]
  },
  {
   "cell_type": "code",
   "execution_count": null,
   "id": "50d3c146",
   "metadata": {},
   "outputs": [],
   "source": [
    "df['max_velocity(km/h)'] = df['max_velocity(km/h)'].replace('300.0', '200.0')"
   ]
  },
  {
   "cell_type": "code",
   "execution_count": null,
   "id": "138c6454",
   "metadata": {},
   "outputs": [],
   "source": [
    "# Nowe wartości jako słownik\n",
    "correct_values = {\n",
    "    'STRETCH': '140.0',\n",
    "    'BRAVURA': '144.0',\n",
    "    'LINERUN': '160.0',\n",
    "    'TRASH': '170.0',\n",
    "    'MANANA': '160.0',\n",
    "    'DUMPER': '110.0',\n",
    "    'FIRETRUK': '170.0',\n",
    "    'URANUS': '180.0',\n",
    "    'PEREN': '150.0',\n",
    "    'SENTINEL': '165.0'\n",
    "}\n",
    "\n",
    "# Aktualizacja kolumny 'max_velocity(km/h)' w df\n",
    "for vehicle, speed in correct_values.items():\n",
    "    df.loc[df['identifier'] == vehicle, 'max_velocity(km/h)'] = speed"
   ]
  },
  {
   "cell_type": "code",
   "execution_count": null,
   "id": "7dde0d81",
   "metadata": {},
   "outputs": [],
   "source": [
    "df"
   ]
  },
  {
   "cell_type": "code",
   "execution_count": null,
   "id": "d5ac34e4",
   "metadata": {},
   "outputs": [],
   "source": [
    "#df.to_csv('gta_sa_vehicle_stats_ready.csv', index=False)"
   ]
  },
  {
   "cell_type": "markdown",
   "id": "16a4f863",
   "metadata": {},
   "source": [
    "TERAZ DZIEJE SIE EDA"
   ]
  },
  {
   "cell_type": "code",
   "execution_count": null,
   "id": "9d10684d",
   "metadata": {},
   "outputs": [],
   "source": [
    "df.dtypes"
   ]
  },
  {
   "cell_type": "code",
   "execution_count": null,
   "id": "b07d2ee9",
   "metadata": {},
   "outputs": [],
   "source": [
    "for c in df.columns:\n",
    "    if c not in ['identifier', 'drive_type', 'engine_type', 'model_flags', 'handling_flags', 'lights_front', 'lights_rear']:\n",
    "        df[c] = pd.to_numeric(df[c])"
   ]
  },
  {
   "cell_type": "code",
   "execution_count": null,
   "id": "f77c8814",
   "metadata": {},
   "outputs": [],
   "source": [
    "df.info()"
   ]
  },
  {
   "cell_type": "code",
   "execution_count": null,
   "id": "805b5993",
   "metadata": {},
   "outputs": [],
   "source": [
    "df.describe(include='all').T"
   ]
  },
  {
   "cell_type": "code",
   "execution_count": null,
   "id": "2d3c233d",
   "metadata": {},
   "outputs": [],
   "source": [
    "df.select_dtypes(include='object')"
   ]
  },
  {
   "cell_type": "code",
   "execution_count": null,
   "id": "33c250d0",
   "metadata": {},
   "outputs": [],
   "source": [
    "df.select_dtypes(include='object').nunique()"
   ]
  },
  {
   "cell_type": "code",
   "execution_count": null,
   "id": "80f94d43",
   "metadata": {},
   "outputs": [],
   "source": [
    "for c in df.select_dtypes(include='object').columns:\n",
    "    if c not in ['identifier', 'model_flags', 'handling_flags']:\n",
    "        print(f'Unique Values in \"{c}\":', df[c].unique())"
   ]
  },
  {
   "cell_type": "code",
   "execution_count": null,
   "id": "4e35d4a8",
   "metadata": {},
   "outputs": [],
   "source": [
    "df['drive_type'] = df['drive_type'].replace('R', 'Rear')\n",
    "df['engine_type'] = df['engine_type'].replace('D', 'Diesel')"
   ]
  },
  {
   "cell_type": "code",
   "execution_count": null,
   "id": "01bad893",
   "metadata": {},
   "outputs": [],
   "source": [
    "for c in ['drive_type', 'engine_type']:\n",
    "    print(f'Unique Values in {c}:', df[c].unique())"
   ]
  },
  {
   "cell_type": "code",
   "execution_count": null,
   "id": "0890f427",
   "metadata": {},
   "outputs": [],
   "source": [
    "df['drive_type'] = df['drive_type'].astype('category')\n",
    "df['engine_type'] = df['engine_type'].astype('category')"
   ]
  },
  {
   "cell_type": "markdown",
   "id": "cd51cdf6",
   "metadata": {},
   "source": [
    "TYPY ZROBIONE - BRAKUJE SWIATEL ALE HUJ - JAZDA Z WYKRESAMI"
   ]
  },
  {
   "cell_type": "code",
   "execution_count": null,
   "id": "958a3d4b",
   "metadata": {},
   "outputs": [],
   "source": [
    "df.select_dtypes(include='category')"
   ]
  },
  {
   "cell_type": "markdown",
   "id": "29b4a12c",
   "metadata": {},
   "source": [
    "STATYSKYKI OPISOWE I ROZKŁADY"
   ]
  },
  {
   "cell_type": "code",
   "execution_count": null,
   "id": "0ff7be26",
   "metadata": {},
   "outputs": [],
   "source": [
    "#informacje ogólne\n",
    "df.info()"
   ]
  },
  {
   "cell_type": "code",
   "execution_count": null,
   "id": "ee41e802",
   "metadata": {},
   "outputs": [],
   "source": [
    "df.describe().T"
   ]
  },
  {
   "cell_type": "code",
   "execution_count": null,
   "id": "a777bc7b",
   "metadata": {},
   "outputs": [],
   "source": [
    "#histogramy - rozkład najważniejszych cech"
   ]
  },
  {
   "cell_type": "code",
   "execution_count": null,
   "id": "0cf95216",
   "metadata": {},
   "outputs": [],
   "source": [
    "df.columns"
   ]
  },
  {
   "cell_type": "code",
   "execution_count": null,
   "id": "20a2ca52",
   "metadata": {},
   "outputs": [],
   "source": [
    "features = ['mass_(kg)', 'acceleration(ms^2)', 'max_velocity(km/h)', 'monetary_value_($)']\n",
    "\n",
    "plt.figure(figsize=(16, 10))\n",
    "for i, c in enumerate(features, 1):\n",
    "    plt.subplot(2, 2, i)\n",
    "    sns.histplot(df[c], bins=25, kde=True)\n",
    "    plt.title(f'Distribution of {c}')"
   ]
  },
  {
   "cell_type": "code",
   "execution_count": null,
   "id": "51c9d507",
   "metadata": {},
   "outputs": [],
   "source": [
    "#rozkład typów napędu"
   ]
  },
  {
   "cell_type": "code",
   "execution_count": null,
   "id": "3e3c3941",
   "metadata": {},
   "outputs": [],
   "source": [
    "sns.countplot(x=df['drive_type'], order=['Rear', 'Front', '4'])\n",
    "plt.title('Drive Type Distribution')"
   ]
  },
  {
   "cell_type": "code",
   "execution_count": null,
   "id": "1e7dd685",
   "metadata": {},
   "outputs": [],
   "source": [
    "sns.countplot(x=df['engine_type'], order=['Petrol', 'Diesel', 'Electric'])\n",
    "plt.title('Engine Type Distribution')"
   ]
  },
  {
   "cell_type": "code",
   "execution_count": null,
   "id": "e1ad78ff",
   "metadata": {},
   "outputs": [],
   "source": [
    "#boxplot masa vs przyspieszenie"
   ]
  },
  {
   "cell_type": "code",
   "execution_count": null,
   "id": "bb307fa2",
   "metadata": {},
   "outputs": [],
   "source": [
    "sns.boxplot(x=df['drive_type'], y=df['acceleration(ms^2)'], order=['Rear', 'Front', '4'])\n",
    "plt.title('Acceleration by Drive Type')"
   ]
  },
  {
   "cell_type": "code",
   "execution_count": null,
   "id": "f86079f3",
   "metadata": {},
   "outputs": [],
   "source": [
    "plt.figure(figsize=(10, 8))\n",
    "sns.scatterplot(x='mass_(kg)', y='acceleration(ms^2)', hue='drive_type', data=df)\n",
    "plt.title('Mass vs Acceleration by Drive Type')"
   ]
  },
  {
   "cell_type": "code",
   "execution_count": null,
   "id": "cfb38200",
   "metadata": {},
   "outputs": [],
   "source": [
    "df_filtered = df[(df['mass_(kg)'] <= 10000) & (df['acceleration(ms^2)'] <= 35)]\n",
    "\n",
    "plt.figure(figsize=(10, 8))\n",
    "sns.scatterplot(x='mass_(kg)', y='acceleration(ms^2)', hue='drive_type', data=df_filtered)\n",
    "plt.title('Mass vs Acceleration by Drive Type')"
   ]
  },
  {
   "cell_type": "code",
   "execution_count": null,
   "id": "644b30ee",
   "metadata": {},
   "outputs": [],
   "source": [
    "#przyczepność vs rozkład hamulców"
   ]
  },
  {
   "cell_type": "code",
   "execution_count": null,
   "id": "4fae987e",
   "metadata": {},
   "outputs": [],
   "source": [
    "sns.scatterplot(x='traction_multiplier', y='brakes_bias(%)', data=df)\n",
    "plt.title('Traction vs Brake bias')"
   ]
  },
  {
   "cell_type": "code",
   "execution_count": null,
   "id": "821a510b",
   "metadata": {},
   "outputs": [],
   "source": [
    "#najważniejsze cechy techniczne"
   ]
  },
  {
   "cell_type": "code",
   "execution_count": null,
   "id": "42bea852",
   "metadata": {},
   "outputs": [],
   "source": [
    "features1 = ['mass_(kg)', 'acceleration(ms^2)', 'max_velocity(km/h)',\n",
    "            'traction_multiplier', 'brakes_deceleration(ms^2)', 'collision_damage_multiplier']\n",
    "\n",
    "sns.pairplot(df[features1])"
   ]
  },
  {
   "cell_type": "markdown",
   "id": "48774a34",
   "metadata": {},
   "source": [
    "TO BYŁA JEDNA PORCJA, TERAZ JAZDA DALEJ"
   ]
  },
  {
   "cell_type": "code",
   "execution_count": null,
   "id": "1f53ead0",
   "metadata": {},
   "outputs": [],
   "source": [
    "#top/bottom:"
   ]
  },
  {
   "cell_type": "code",
   "execution_count": null,
   "id": "7bf3f65e",
   "metadata": {},
   "outputs": [],
   "source": [
    "df.columns"
   ]
  },
  {
   "cell_type": "code",
   "execution_count": null,
   "id": "c8bfdd6e",
   "metadata": {},
   "outputs": [],
   "source": [
    "top_speed = df.sort_values(by='max_velocity(km/h)', ascending=False).head(15)\n",
    "top_speed"
   ]
  },
  {
   "cell_type": "code",
   "execution_count": null,
   "id": "a81a9ebd",
   "metadata": {},
   "outputs": [],
   "source": [
    "plt.figure(figsize=(16, 10))\n",
    "sns.barplot(y='identifier', x='max_velocity(km/h)', hue='max_velocity(km/h)', data=top_speed, palette='bright')\n",
    "plt.title('Top 15 Fastest Cars')"
   ]
  },
  {
   "cell_type": "code",
   "execution_count": null,
   "id": "838ccff4",
   "metadata": {},
   "outputs": [],
   "source": [
    "slowest = df.sort_values(by='max_velocity(km/h)', ascending=True).head(15)\n",
    "slowest"
   ]
  },
  {
   "cell_type": "code",
   "execution_count": null,
   "id": "373ad721",
   "metadata": {},
   "outputs": [],
   "source": [
    "plt.figure(figsize=(16, 10))\n",
    "sns.barplot(y='identifier', x='max_velocity(km/h)', hue='max_velocity(km/h)', data=slowest, palette='bright')\n",
    "plt.title('Top 15 Slowest Cars')"
   ]
  },
  {
   "cell_type": "code",
   "execution_count": null,
   "id": "95c4c125",
   "metadata": {},
   "outputs": [],
   "source": [
    "acceleration = df.sort_values(by='acceleration(ms^2)', ascending=False).head(10)\n",
    "plt.figure(figsize=(16, 10))\n",
    "sns.barplot(y='identifier', x='acceleration(ms^2)', hue='acceleration(ms^2)', data=acceleration, palette='deep')\n",
    "plt.title('Top 10 Acceleration')"
   ]
  },
  {
   "cell_type": "code",
   "execution_count": null,
   "id": "d8ddd8f2",
   "metadata": {},
   "outputs": [],
   "source": [
    "heaviest = df.sort_values(by='mass_(kg)', ascending=False).head(10)\n",
    "plt.figure(figsize=(16, 10))\n",
    "sns.barplot(x='identifier', y='mass_(kg)', hue='mass_(kg)', data=heaviest)\n",
    "plt.title('Top 10 Heaviest Vehicles')"
   ]
  },
  {
   "cell_type": "code",
   "execution_count": null,
   "id": "af6ee35c",
   "metadata": {},
   "outputs": [],
   "source": [
    "toughest = df.sort_values(by='collision_damage_multiplier', ascending=True).head(10)\n",
    "plt.figure(figsize=(16, 10))\n",
    "sns.barplot(x='identifier', y='collision_damage_multiplier', hue='collision_damage_multiplier', data=toughest, palette='flare')\n",
    "plt.title('Top 10 Most Damage-Resistant Vehicles (Lower = Tougher)')"
   ]
  },
  {
   "cell_type": "markdown",
   "id": "d4a83454",
   "metadata": {},
   "source": [
    "Topki zrobione, czas na zależności i wykresy 2D"
   ]
  },
  {
   "cell_type": "code",
   "execution_count": null,
   "id": "12105691",
   "metadata": {},
   "outputs": [],
   "source": [
    "df.columns"
   ]
  },
  {
   "cell_type": "code",
   "execution_count": null,
   "id": "67b6b961",
   "metadata": {},
   "outputs": [],
   "source": [
    "plt.figure(figsize=(16, 10))\n",
    "sns.regplot(x='monetary_value_($)', y='max_velocity(km/h)', data=df)\n",
    "plt.title('Car Price vs Top Speed')"
   ]
  },
  {
   "cell_type": "code",
   "execution_count": null,
   "id": "8b0afaca",
   "metadata": {},
   "outputs": [],
   "source": [
    "plt.figure(figsize=(16, 10))\n",
    "sns.regplot(x='monetary_value_($)', y='acceleration(ms^2)', data=df)\n",
    "plt.title('Car Price vs Acceleration')"
   ]
  },
  {
   "cell_type": "code",
   "execution_count": null,
   "id": "7025faff",
   "metadata": {},
   "outputs": [],
   "source": [
    "plt.figure(figsize=(16, 10))\n",
    "sns.regplot(x='mass_(kg)', y='collision_damage_multiplier', data=df)\n",
    "plt.title('Are heavier vehicles more durable?')"
   ]
  },
  {
   "cell_type": "code",
   "execution_count": null,
   "id": "d2b4bb24",
   "metadata": {},
   "outputs": [],
   "source": [
    "plt.figure(figsize=(16, 10))\n",
    "sns.regplot(x='max_velocity(km/h)', y='acceleration(ms^2)', data=df)\n",
    "plt.title('Top Speed vs Acceleration')"
   ]
  }
 ],
 "metadata": {
  "kernelspec": {
   "display_name": "Python 3",
   "language": "python",
   "name": "python3"
  },
  "language_info": {
   "codemirror_mode": {
    "name": "ipython",
    "version": 3
   },
   "file_extension": ".py",
   "mimetype": "text/x-python",
   "name": "python",
   "nbconvert_exporter": "python",
   "pygments_lexer": "ipython3",
   "version": "3.11.9"
  }
 },
 "nbformat": 4,
 "nbformat_minor": 5
}
